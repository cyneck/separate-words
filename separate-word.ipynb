{
 "cells": [
  {
   "cell_type": "code",
   "execution_count": 1,
   "metadata": {},
   "outputs": [
    {
     "name": "stdout",
     "output_type": "stream",
     "text": [
      "Looking in indexes: https://pypi.tuna.tsinghua.edu.cn/simple\n",
      "Collecting pkuseg\n",
      "  Downloading https://pypi.tuna.tsinghua.edu.cn/packages/81/1d/945c0d33835fe38f424793c45d2ef9f800515498bad0af44df4640090731/pkuseg-0.0.10-py3-none-any.whl (57.7MB)\n",
      "Requirement already satisfied: numpy in d:\\programdata\\anaconda3\\envs\\py35\\lib\\site-packages (from pkuseg) (1.15.4)\n",
      "Installing collected packages: pkuseg\n",
      "Successfully installed pkuseg-0.0.10\n"
     ]
    }
   ],
   "source": [
    "!pip install pkuseg"
   ]
  },
  {
   "cell_type": "code",
   "execution_count": 1,
   "metadata": {},
   "outputs": [
    {
     "name": "stdout",
     "output_type": "stream",
     "text": [
      "loading model\n",
      "finish\n",
      "['“', '帝国主义', '侵略', '我们', '，', '奴役', '我们', '，', '他们', '要', '把', '我们', '的', '地瓜', '分掉', '！', '”']\n"
     ]
    }
   ],
   "source": [
    "import pkuseg\n",
    "seg = pkuseg.pkuseg(model_name='./ctb8')\t#假设用户已经下载好了ctb8的模型并放在了'./ctb8'目录下，通过设置model_name加载该模型\n",
    "text = seg.cut('“帝国主义侵略我们，奴役我们，他们要把我们的地瓜分掉！”')\t\t\t#进行分词\n",
    "print(text)"
   ]
  },
  {
   "cell_type": "markdown",
   "metadata": {},
   "source": [
    "......等等，他们为什么要分我们的地瓜"
   ]
  },
  {
   "cell_type": "code",
   "execution_count": 2,
   "metadata": {},
   "outputs": [],
   "source": [
    "from collections import Counter\n",
    "import pkuseg"
   ]
  },
  {
   "cell_type": "code",
   "execution_count": 3,
   "metadata": {},
   "outputs": [
    {
     "name": "stdout",
     "output_type": "stream",
     "text": [
      "loading model\n",
      "finish\n",
      "Counter({'游戏': 11, '朋友': 3, '外挂': 3, '挺': 2, '称号': 2, '分数': 2, '跳': 2, '微信': 2, '款': 2, '刚刚': 1, '画面': 1, '水平': 1, '紧张': 1, '分曾': 1, '打到': 1, '6000多': 1, '厉害': 1, '时间': 1, '好玩': 1, '无聊': 1, '大师': 1, '上个星期': 1, '6000分': 1, '发现': 1, '立地成佛': 1, '小心': 1, '佛系': 1, '玩': 1, '排行榜': 1, '修改': 1, '数据库': 1, '引发': 1, '思考': 1, '当成': 1, 'Demo': 1, '版本': 1, '体现': 1, '程序': 1, '平台': 1, '威力': 1, '匆忙': 1, '简单': 1, '发布': 1, '效果': 1, '超出': 1, '预期': 1, '我们自己': 1, '开玩笑': 1, '有史以来': 1, '用户': 1, '规模': 1, 'DAU': 1, '1点几亿': 1, '想到': 1, '朋友圈': 1, '打出': 1})\n"
     ]
    }
   ],
   "source": [
    "content = []\n",
    "with open(\"words.txt\", encoding=\"utf-8\") as f:\n",
    "    content = f.read()\n",
    "\n",
    "seg = pkuseg.pkuseg(model_name='./ctb8')\n",
    "text = seg.cut(content)\n",
    "\n",
    "\n",
    "stopwords = []\n",
    "\n",
    "with open(\"stopwords.txt\", encoding=\"utf-8\") as f:\n",
    "    stopwords = f.read()\n",
    "\n",
    "new_text = []\n",
    "\n",
    "for w in text:\n",
    "    if w not in stopwords:\n",
    "        new_text.append(w)\n",
    "\n",
    "\n",
    "counter = Counter(new_text)\n",
    "print(counter)"
   ]
  },
  {
   "cell_type": "code",
   "execution_count": null,
   "metadata": {},
   "outputs": [],
   "source": []
  }
 ],
 "metadata": {
  "kernelspec": {
   "display_name": "Python 3",
   "language": "python",
   "name": "python3"
  },
  "language_info": {
   "codemirror_mode": {
    "name": "ipython",
    "version": 3
   },
   "file_extension": ".py",
   "mimetype": "text/x-python",
   "name": "python",
   "nbconvert_exporter": "python",
   "pygments_lexer": "ipython3",
   "version": "3.7.1"
  }
 },
 "nbformat": 4,
 "nbformat_minor": 2
}
